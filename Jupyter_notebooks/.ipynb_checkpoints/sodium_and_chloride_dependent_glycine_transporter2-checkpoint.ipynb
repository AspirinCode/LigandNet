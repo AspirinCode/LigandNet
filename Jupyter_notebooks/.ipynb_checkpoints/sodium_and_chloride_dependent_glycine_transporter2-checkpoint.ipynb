{
 "cells": [
  {
   "cell_type": "code",
   "execution_count": 155,
   "metadata": {},
   "outputs": [],
   "source": [
    "import os\n",
    "import pandas as pd\n",
    "import numpy as np\n",
    "from sklearn.metrics import roc_auc_score\n",
    "import pickle\n",
    "from sklearn.metrics import confusion_matrix\n",
    "from sklearn.model_selection import train_test_split\n",
    "from sklearn.ensemble import RandomForestClassifier\n",
    "from sklearn.svm import SVC\n",
    "from sklearn.metrics import classification_report"
   ]
  },
  {
   "cell_type": "code",
   "execution_count": 82,
   "metadata": {},
   "outputs": [],
   "source": [
    "#smile file generation for actives\n",
    "actives = open('/Users/dshrestha/Desktop/Pharos/ligands_obtained/Sodium__and_chloride_dependent_glycine_transporter_2.txt','r').readlines()\n",
    "active_smiles = open('/Users/dshrestha/Desktop/Pharos/active_glycine_smiles.smi','w')\n",
    "\n",
    "for lines in actives:\n",
    "    line = lines.split('\\t')[0]\n",
    "    active_smiles.write(line+'\\n')\n",
    "\n",
    "active_smiles.close()\n"
   ]
  },
  {
   "cell_type": "code",
   "execution_count": 83,
   "metadata": {},
   "outputs": [],
   "source": [
    "#smile file generation for decoys\n",
    "decoy_path ='/Users/dshrestha/Desktop/Pharos/Decoys_set_1/Sodium__and_chloride_dependent_glycine_transporter_2/decoys/'\n",
    "files = os.listdir(decoy_path)\n",
    "decoy_smiles = open('/Users/dshrestha/Desktop/Pharos/decoy_glycine_smiles.smi','w')\n",
    "for file in files:\n",
    "    if file != '.DS_Store':\n",
    "        decoys = open(decoy_path+file,'r').readlines() \n",
    "        for lines in decoys:\n",
    "            if not lines.startswith('ligand'):\n",
    "                line = lines.split('\\t')[0]\n",
    "                decoy_smiles.write(line+'\\n')\n",
    "            else:\n",
    "                decoy_smiles.write(lines.split('\\t')[1]+'\\n')\n",
    "decoy_smiles.close()"
   ]
  },
  {
   "cell_type": "code",
   "execution_count": 84,
   "metadata": {},
   "outputs": [],
   "source": [
    "#converting smiles to sdf\n",
    "def smiles2sdf(input_file, output_file):\n",
    "    os.system('python /Users/dshrestha/Downloads/mayachemtools/bin/RDKitConvertFileFormat.py -i /Users/dshrestha/Desktop/Pharos/'+input_file+' --ov -o /Users/dshrestha/Desktop/Pharos/'+output_file)\n",
    "\n",
    "smiles2sdf('active_glycine_smiles.smi', 'glycine_actives.sdf')\n",
    "smiles2sdf('decoy_glycine_smiles.smi', 'glycine_decoys.sdf')"
   ]
  },
  {
   "cell_type": "code",
   "execution_count": 85,
   "metadata": {},
   "outputs": [],
   "source": [
    "#generating features for actives\n",
    "command='perl  /Users/dshrestha/Downloads/mayachemtools/bin/TopologicalPharmacophoreAtomTripletsFingerprints.pl -r /Users/dshrestha/Desktop/Pharos/glycineActivesTPATF --AtomTripletsSetSizeToUse FixedSize -v ValuesString -o /Users/dshrestha/Desktop/Pharos/glycine_actives.sdf'\n",
    "os.system(command)\n",
    "\n",
    "active = open('/Users/dshrestha/Desktop/Pharos/glycineActivesTPATF.csv','r').readlines()\n",
    "frame1=[]\n",
    "for lines in active:\n",
    "    #print(lines)\n",
    "    if 'Cmpd' in lines:\n",
    "        #i = re.findall(r'\\d+', lines)\n",
    "        #val=(data.iloc[(int(i[0])-1), 3])\n",
    "        line = lines.split(';')[5].rstrip('\"\\n').split(' ')\n",
    "        #print(len(line))\n",
    "        df = pd.DataFrame(np.array(line).reshape(1,len(line)))\n",
    "        df.astype(int)\n",
    "        frame1.append(df)\n",
    "active_val = [1]*len(frame1)\n"
   ]
  },
  {
   "cell_type": "code",
   "execution_count": null,
   "metadata": {},
   "outputs": [],
   "source": []
  },
  {
   "cell_type": "code",
   "execution_count": 86,
   "metadata": {},
   "outputs": [
    {
     "data": {
      "text/plain": [
       "0"
      ]
     },
     "execution_count": 86,
     "metadata": {},
     "output_type": "execute_result"
    }
   ],
   "source": [
    "#fingerprint generation for decoys\n",
    "command2='perl  /Users/dshrestha/Downloads/mayachemtools/bin/TopologicalPharmacophoreAtomTripletsFingerprints.pl -r /Users/dshrestha/Desktop/Pharos/glycineDecoysTPATF --AtomTripletsSetSizeToUse FixedSize -v ValuesString -o /Users/dshrestha/Desktop/Pharos/glycine_decoys.sdf'\n",
    "os.system(command2)\n"
   ]
  },
  {
   "cell_type": "code",
   "execution_count": 87,
   "metadata": {},
   "outputs": [],
   "source": [
    "#fingerprint generation for decoys\n",
    "decoy = open('/Users/dshrestha/Desktop/Pharos/glycineDecoysTPATF.csv','r').readlines()\n",
    "frame2 =[]\n",
    "for lines in decoy:\n",
    "    #print(lines)\n",
    "    if 'Cmpd' in lines:\n",
    "        line = lines.split(';')[5].rstrip('\"\\n').split(' ')\n",
    "        #print(len(line))\n",
    "        df = pd.DataFrame(np.array(line).reshape(1,len(line)))\n",
    "        df.astype(int)\n",
    "        frame2.append(df)\n",
    "decoy_val = [0]*len(frame2)\n",
    "\n"
   ]
  },
  {
   "cell_type": "code",
   "execution_count": 88,
   "metadata": {},
   "outputs": [
    {
     "name": "stdout",
     "output_type": "stream",
     "text": [
      "4444\n",
      "(4444, 4444)\n"
     ]
    },
    {
     "data": {
      "text/plain": [
       "58"
      ]
     },
     "execution_count": 88,
     "metadata": {},
     "output_type": "execute_result"
    }
   ],
   "source": [
    "#combining actives and decoys for data splitting\n",
    "frames = frame1+frame2\n",
    "len(frames)\n",
    "x = pd.concat(frames)\n",
    "#x.to_csv('/Users/dshrestha/Desktop/Pharos/activefingerprints_glycine.csv', sep=',')\n",
    "values = active_val+decoy_val\n",
    "print(len(values))\n",
    "y = pd.DataFrame(values)\n",
    "print(len(x), len(y))\n",
    "len(active_val)"
   ]
  },
  {
   "cell_type": "code",
   "execution_count": 273,
   "metadata": {},
   "outputs": [],
   "source": [
    "#splitting the dataset into train and split\n",
    "\n",
    "x_train, x_test, y_train, y_test = train_test_split(x, y, test_size = 0.2)\n"
   ]
  },
  {
   "cell_type": "code",
   "execution_count": 274,
   "metadata": {},
   "outputs": [
    {
     "name": "stdout",
     "output_type": "stream",
     "text": [
      "('test:', 0.9482935153583617)\n",
      "('train:', 0.99700598802395202)\n",
      "('test2:', 0.9482935153583617)\n",
      "('train2:', 0.99700598802395202)\n"
     ]
    }
   ],
   "source": [
    "#support vector classification\n",
    "\n",
    "#t = (np.array(y_train).ravel())\n",
    "\n",
    "classifier = SVC(kernel ='linear')\n",
    "classifier.fit(x_train, y_train)\n",
    "y_predicted = classifier.predict(x_test)\n",
    "train_pred = classifier.predict(x_train)\n",
    "\n",
    "train_score= roc_auc_score(y_train, train_pred)\n",
    "test_score = roc_auc_score(y_test, y_predicted)\n",
    "\n",
    "train_score2= roc_auc_score(y_train, pd.DataFrame(train_pred))\n",
    "test_score2 = roc_auc_score(y_test, (y_predicted))\n",
    "\n",
    "print('test:', test_score)\n",
    "print('train:', train_score)\n",
    "\n",
    "print('test2:', test_score)\n",
    "print('train2:', train_score)\n",
    "\n",
    "#print(t)\n",
    "\n"
   ]
  },
  {
   "cell_type": "code",
   "execution_count": 285,
   "metadata": {},
   "outputs": [
    {
     "data": {
      "text/plain": [
       "0.98368090406209241"
      ]
     },
     "execution_count": 285,
     "metadata": {},
     "output_type": "execute_result"
    }
   ],
   "source": [
    "from sklearn.model_selection import cross_val_score\n",
    "accuracies = cross_val_score(estimator = classifier, X = x_train, y = y_train.values.ravel(), cv =10)\n",
    "np.mean(accuracies)"
   ]
  },
  {
   "cell_type": "code",
   "execution_count": 283,
   "metadata": {},
   "outputs": [
    {
     "name": "stdout",
     "output_type": "stream",
     "text": [
      "0.895985987763\n",
      "0.773113325194\n",
      "('sensitivity: ', 0.8999999999999998)\n",
      "('specificity: ', 0.99658703071672383)\n",
      "('PPV: ', 0.75)\n"
     ]
    }
   ],
   "source": [
    "train_roc =[]\n",
    "test_roc = []\n",
    "test_sensitivity=[]\n",
    "test_specificity=[]\n",
    "test_PPV=[]\n",
    "for n in range(20):\n",
    "    x1_train, x1_test, y1_train, y1_test = train_test_split(x, y, test_size = 0.2)\n",
    "    classifier1 = SVC(kernel ='linear')\n",
    "    classifier1.fit(x1_train, y1_train)\n",
    "    y1_predicted = classifier1.predict(x1_test)\n",
    "    train1_pred = classifier1.predict(x1_train)\n",
    "    \n",
    "    tn, fp, fn, tp = confusion_matrix(y_test, y_predicted).ravel()\n",
    "    test_sensitivity.append(float(tp)/(tp+fn))\n",
    "    test_specificity.append(float(tn)/(tn+fp))\n",
    "    test_PPV.append(float(tp)/(tp+fp))\n",
    "    train_roc.append(roc_auc_score(y1_train, train1_pred))\n",
    "    test_roc.append(roc_auc_score(y1_test, y1_predicted))\n",
    "print(np.mean(train_roc))\n",
    "print(np.mean(test_roc))\n",
    "print('sensitivity: ', np.mean(test_sensitivity))\n",
    "print('specificity: ', np.mean(test_specificity))\n",
    "print('PPV: ', np.mean(test_PPV))"
   ]
  },
  {
   "cell_type": "code",
   "execution_count": 281,
   "metadata": {},
   "outputs": [
    {
     "data": {
      "text/plain": [
       "[0.74599083619702178,\n",
       " 0.87947839831401464,\n",
       " 0.87833684580259919,\n",
       " 0.96380625476735315,\n",
       " 0.83916809851088203,\n",
       " 0.89601820250284403,\n",
       " 0.76209000762776502,\n",
       " 0.8159039138537999,\n",
       " 0.87947839831401464,\n",
       " 0.9532022044849866,\n",
       " 0.95169807413543173,\n",
       " 0.74829351535836175,\n",
       " 0.74544937428896474,\n",
       " 0.80909477866061297,\n",
       " 0.82934245534017481,\n",
       " 0.7310450038138826,\n",
       " 0.85371428571428576,\n",
       " 0.72791534949069203,\n",
       " 0.76298569886670253,\n",
       " 0.80966231555051071]"
      ]
     },
     "execution_count": 281,
     "metadata": {},
     "output_type": "execute_result"
    }
   ],
   "source": [
    "train_roc\n",
    "test_roc"
   ]
  },
  {
   "cell_type": "code",
   "execution_count": 278,
   "metadata": {},
   "outputs": [],
   "source": [
    "#saving the model\n",
    "pkl_filename = \"/Users/dshrestha/Desktop/Pharos/models/SVC_glycine2.pkl\"\n",
    "pickle.dump(classifier, open(pkl_filename, 'wb'))\n",
    "#with open(pkl_filename, 'wb') as file:\n",
    "#    pickle.dump(classifier, file)"
   ]
  },
  {
   "cell_type": "code",
   "execution_count": 275,
   "metadata": {},
   "outputs": [
    {
     "name": "stdout",
     "output_type": "stream",
     "text": [
      "[[876   3]\n",
      " [  1   9]]\n",
      "\n",
      "\n",
      "('tp: ', 9)\n",
      "('fn: ', 1)\n",
      "\n",
      "\n",
      "[[3486   21]\n",
      " [   0   48]]\n"
     ]
    }
   ],
   "source": [
    "#confusion matrix for support vector machine\n",
    "\n",
    "y_predicted = map(int, y_predicted)\n",
    "tn, fp, fn, tp = confusion_matrix(y_test, y_predicted).ravel()\n",
    "\n",
    "print(confusion_matrix(y_test, y_predicted))\n",
    "print('\\n')\n",
    "print('tp: ', tp)\n",
    "print('fn: ', fn)\n",
    "print('\\n')\n",
    "\n",
    "print(confusion_matrix(y_train, train_pred))"
   ]
  },
  {
   "cell_type": "code",
   "execution_count": 276,
   "metadata": {},
   "outputs": [
    {
     "name": "stdout",
     "output_type": "stream",
     "text": [
      "('sensitivity: ', 0.9)\n",
      "('specificity: ', 0.9965870307167235)\n",
      "('PPV: ', 0.75)\n"
     ]
    }
   ],
   "source": [
    "#for test set\n",
    "sensitivity = float(tp)/(tp+fn)\n",
    "specificity = float(tn)/(tn+fp)\n",
    "PPV = float(tp)/(tp+fp)\n",
    "print('sensitivity: ', sensitivity)\n",
    "print('specificity: ', specificity)\n",
    "print('PPV: ', PPV)"
   ]
  },
  {
   "cell_type": "code",
   "execution_count": 277,
   "metadata": {},
   "outputs": [
    {
     "name": "stdout",
     "output_type": "stream",
     "text": [
      "('sensitivity: ', 1.0)\n",
      "('specificity: ', 0.9940119760479041)\n",
      "('PPV: ', 0.6956521739130435)\n"
     ]
    }
   ],
   "source": [
    "#for train set\n",
    "tn, fp, fn, tp = confusion_matrix(y_train, train_pred).ravel()\n",
    "sensitivity = float(tp)/(tp+fn)\n",
    "specificity = float(tn)/(tn+fp)\n",
    "PPV = float(tp)/(tp+fp)\n",
    "print('sensitivity: ', sensitivity)\n",
    "print('specificity: ', specificity)\n",
    "print('PPV: ', PPV)"
   ]
  },
  {
   "cell_type": "code",
   "execution_count": 235,
   "metadata": {},
   "outputs": [
    {
     "name": "stdout",
     "output_type": "stream",
     "text": [
      "             precision    recall  f1-score   support\n",
      "\n",
      "          0       1.00      0.99      0.99       881\n",
      "          1       0.41      0.88      0.56         8\n",
      "\n",
      "avg / total       0.99      0.99      0.99       889\n",
      "\n"
     ]
    }
   ],
   "source": [
    "#y_test\n",
    "df = pd.DataFrame(train_pred)\n",
    "#df\n",
    "#x_test\n",
    "#print(y_test.values.ravel())\n",
    "#x_test.to_csv('/Users/dshrestha/Desktop/Pharos/test_glycine.csv', sep=',')\n",
    "print(classification_report(y_test, y_predicted))"
   ]
  },
  {
   "cell_type": "code",
   "execution_count": 54,
   "metadata": {},
   "outputs": [],
   "source": [
    "#print(df.values.ravel())"
   ]
  },
  {
   "cell_type": "code",
   "execution_count": 137,
   "metadata": {},
   "outputs": [
    {
     "name": "stdout",
     "output_type": "stream",
     "text": [
      "[1]\n"
     ]
    }
   ],
   "source": [
    "def predictor(smile):\n",
    "    file = open('/Users/dshrestha/Desktop/Pharos/test_smile.smi','w')\n",
    "    file.write(smile)\n",
    "    file.close()\n",
    "    smiles2sdf('test_smile.smi', 'test2_sdf.sdf')\n",
    "    command='perl  /Users/dshrestha/Downloads/mayachemtools/bin/TopologicalPharmacophoreAtomTripletsFingerprints.pl -r /Users/dshrestha/Desktop/Pharos/test_TPATF --AtomTripletsSetSizeToUse FixedSize -v ValuesString -o /Users/dshrestha/Desktop/Pharos/test2_sdf.sdf'\n",
    "    os.system(command)\n",
    "    test = open('/Users/dshrestha/Desktop/Pharos/test_TPATF.csv','r').readlines()\n",
    "    frames3 =[]\n",
    "    for lines in test:\n",
    "        if 'Cmpd' in lines:\n",
    "            line = lines.split(';')[5].rstrip('\"\\n').split(' ')\n",
    "            dftest = pd.DataFrame(np.array(line).reshape(1,len(line)))\n",
    "            dftest.astype(int)\n",
    "            frames3.append(dftest)\n",
    "    testx = pd.concat(frames3)\n",
    "    #print(testx)\n",
    "    testpredicted = classifier.predict(testx)\n",
    "    print(testpredicted)\n",
    "    return(testx)\n",
    "testy=predictor('CN1CCC(CC1)N2CCC(C2)NC(=O)c3ccc(COc4ccc(cc4)C(C)(C)C)cc3')\n"
   ]
  },
  {
   "cell_type": "code",
   "execution_count": 139,
   "metadata": {},
   "outputs": [],
   "source": [
    "#saving the model\n",
    "pkl_filename = \"/Users/dshrestha/Desktop/Pharos/SVC_glycine.pkl\"\n",
    "pickle.dump(classifier, open(pkl_filename, 'wb'))\n",
    "#with open(pkl_filename, 'wb') as file:\n",
    "#    pickle.dump(classifier, file)"
   ]
  },
  {
   "cell_type": "code",
   "execution_count": 153,
   "metadata": {},
   "outputs": [
    {
     "name": "stderr",
     "output_type": "stream",
     "text": [
      "/anaconda3/envs/deepchem/lib/python2.7/site-packages/ipykernel_launcher.py:4: DataConversionWarning: A column-vector y was passed when a 1d array was expected. Please change the shape of y to (n_samples,), for example using ravel().\n",
      "  after removing the cwd from sys.path.\n"
     ]
    },
    {
     "name": "stdout",
     "output_type": "stream",
     "text": [
      "('test:', 0.72875667429443181)\n",
      "('train:', 0.94029440589076663)\n"
     ]
    }
   ],
   "source": [
    "#Random Forest Classification\n",
    "\n",
    "RandomClassifier = RandomForestClassifier(n_estimators = 10, criterion = 'entropy')\n",
    "RandomClassifier.fit(x_train, y_train)\n",
    "\n",
    "y_predict = RandomClassifier.predict(x_test)\n",
    "train_pred = RandomClassifier.predict(x_train)\n",
    "\n",
    "train_score= roc_auc_score(y_train, pd.DataFrame(train_pred))\n",
    "test_score = roc_auc_score(y_test, (y_predict))\n",
    "\n",
    "print('test:', test_score)\n",
    "print('train:', train_score)"
   ]
  },
  {
   "cell_type": "code",
   "execution_count": null,
   "metadata": {},
   "outputs": [],
   "source": []
  },
  {
   "cell_type": "code",
   "execution_count": null,
   "metadata": {},
   "outputs": [],
   "source": []
  }
 ],
 "metadata": {
  "kernelspec": {
   "display_name": "Python 3",
   "language": "python",
   "name": "python3"
  },
  "language_info": {
   "codemirror_mode": {
    "name": "ipython",
    "version": 3
   },
   "file_extension": ".py",
   "mimetype": "text/x-python",
   "name": "python",
   "nbconvert_exporter": "python",
   "pygments_lexer": "ipython3",
   "version": "3.6.4"
  }
 },
 "nbformat": 4,
 "nbformat_minor": 2
}
