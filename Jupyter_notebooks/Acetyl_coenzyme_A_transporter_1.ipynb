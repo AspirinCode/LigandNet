{
 "cells": [
  {
   "cell_type": "code",
   "execution_count": 11,
   "metadata": {},
   "outputs": [],
   "source": [
    "import os\n",
    "import pandas as pd\n",
    "import numpy as np\n",
    "import re\n",
    "from sklearn.metrics import roc_auc_score\n",
    "import pickle\n",
    "from sklearn.metrics import confusion_matrix\n",
    "from sklearn.model_selection import train_test_split\n",
    "from sklearn.ensemble import RandomForestClassifier\n",
    "from sklearn.svm import SVC\n",
    "from sklearn.metrics import classification_report"
   ]
  },
  {
   "cell_type": "code",
   "execution_count": 1,
   "metadata": {},
   "outputs": [],
   "source": [
    "#smile file generation for actives\n",
    "def activeSmiles(fname):\n",
    "    actives = open('/Users/dshrestha/Desktop/Pharos/Actives/'+fname+'.txt','r').readlines()\n",
    "    active_smiles = open('/Users/dshrestha/Desktop/Pharos/smiles/active_'+fname+'_smiles.smi','w')\n",
    "    \n",
    "    for lines in actives:\n",
    "        line = lines.split('\\t')[0]\n",
    "        active_smiles.write(line+'\\n')\n",
    "\n",
    "    active_smiles.close()\n",
    "#activeSmiles('Acetyl_coenzyme_A_transporter_1')"
   ]
  },
  {
   "cell_type": "code",
   "execution_count": 2,
   "metadata": {},
   "outputs": [],
   "source": [
    "#smile file generation for decoys\n",
    "def decoySmiles(fname):\n",
    "    decoy_path ='/Users/dshrestha/Desktop/Pharos/Decoys_set_2/'+fname+'/decoys/'\n",
    "    files = os.listdir(decoy_path)\n",
    "    decoy_smiles = open('/Users/dshrestha/Desktop/Pharos/smiles/decoy_'+fname+'_smiles.smi','w')\n",
    "    for file in files:\n",
    "        if file != '.DS_Store':\n",
    "            decoys = open(decoy_path+file,'r').readlines() \n",
    "            for lines in decoys:\n",
    "                if not lines.startswith('ligand'):\n",
    "                    line = lines.split('\\t')[0]\n",
    "                    decoy_smiles.write(line+'\\n')\n",
    "                else:\n",
    "                    decoy_smiles.write(lines.split('\\t')[1]+'\\n')\n",
    "    decoy_smiles.close()\n",
    "#decoySmiles('Acetyl_coenzyme_A_transporter_1')"
   ]
  },
  {
   "cell_type": "code",
   "execution_count": 14,
   "metadata": {},
   "outputs": [],
   "source": [
    "#converting smiles to sdf\n",
    "def smiles2sdf(fname):\n",
    "    os.system('python /Users/dshrestha/Downloads/mayachemtools/bin/RDKitConvertFileFormat.py -i /Users/dshrestha/Desktop/Pharos/smiles/active_'+fname+'_smiles.smi'+' --ov -o /Users/dshrestha/Desktop/Pharos/sdf/active_'+fname+'_sdf.sdf')\n",
    "    print('generated sdf for actives')\n",
    "    os.system('python /Users/dshrestha/Downloads/mayachemtools/bin/RDKitConvertFileFormat.py -i /Users/dshrestha/Desktop/Pharos/smiles/decoy_'+fname+'_smiles.smi'+' --ov -o /Users/dshrestha/Desktop/Pharos/sdf/decoy_'+fname+'_sdf.sdf')\n",
    "    print('generated sdf for decoys')\n",
    "#smiles2sdf('Acetyl_coenzyme_A_transporter_1')\n",
    "\n"
   ]
  },
  {
   "cell_type": "code",
   "execution_count": 5,
   "metadata": {},
   "outputs": [],
   "source": [
    "#generating features for actives\n",
    "def TPATF(fname):\n",
    "    command='perl  /Users/dshrestha/Downloads/mayachemtools/bin/TopologicalPharmacophoreAtomTripletsFingerprints.pl -r /Users/dshrestha/Desktop/Pharos/fingerprints/actives_'+fname+' --AtomTripletsSetSizeToUse FixedSize -v ValuesString -o /Users/dshrestha/Desktop/Pharos/sdf/active_'+fname+'_sdf.sdf'\n",
    "    os.system(command)\n",
    "    print('generated fingerprint for actives')\n",
    "    #fingerprint generation for decoys\n",
    "    command2='perl  /Users/dshrestha/Downloads/mayachemtools/bin/TopologicalPharmacophoreAtomTripletsFingerprints.pl -r /Users/dshrestha/Desktop/Pharos/fingerprints/decoys_'+fname+' --AtomTripletsSetSizeToUse FixedSize -v ValuesString -o /Users/dshrestha/Desktop/Pharos/sdf/decoy_'+fname+'_sdf.sdf'\n",
    "    os.system(command2)\n",
    "    print('generated fingerprint for decoys')\n",
    "    \n",
    "    "
   ]
  },
  {
   "cell_type": "code",
   "execution_count": 7,
   "metadata": {},
   "outputs": [],
   "source": [
    "#creating dataframe of features and labels for actives and decoys\n",
    "def getTPATF(fname):\n",
    "    print('processing actives features')\n",
    "    active = open('/Users/dshrestha/Desktop/Pharos/fingerprints/actives_'+fname+'.csv','r').readlines()\n",
    "    frame1=[]\n",
    "    for lines in active:\n",
    "        #print(lines)\n",
    "        if 'Cmpd' in lines:\n",
    "            line = lines.split(';')[5].rstrip('\"\\n').split(' ')\n",
    "            #print(len(line))\n",
    "            df = pd.DataFrame(np.array(line).reshape(1,len(line)))\n",
    "            df.astype(int)\n",
    "            frame1.append(df)\n",
    "    active_val = [1]*len(frame1)\n",
    "    \n",
    "    print('processing decoys features')\n",
    "    decoy = open('/Users/dshrestha/Desktop/Pharos/fingerprints/decoys_'+fname+'.csv','r').readlines()\n",
    "    frame2 =[]\n",
    "    for lines in decoy:\n",
    "        #print(lines)\n",
    "        if 'Cmpd' in lines:\n",
    "            line = lines.split(';')[5].rstrip('\"\\n').split(' ')\n",
    "            #print(len(line))\n",
    "            df = pd.DataFrame(np.array(line).reshape(1,len(line)))\n",
    "            df.astype(int)\n",
    "            frame2.append(df)\n",
    "    decoy_val = [0]*len(frame2)\n",
    "    \n",
    "    #combining actives and decoys for data splitting\n",
    "    frames = frame1+frame2\n",
    "    x = pd.concat(frames)\n",
    "    values = active_val+decoy_val\n",
    "    y = pd.DataFrame(values)\n",
    "    print(len(x), len(y))\n",
    "    return x,y"
   ]
  },
  {
   "cell_type": "code",
   "execution_count": 15,
   "metadata": {},
   "outputs": [
    {
     "name": "stdout",
     "output_type": "stream",
     "text": [
      "extracted smiles for actives\n",
      "extracted smiles for decoys\n",
      "generated sdf for actives\n",
      "generated sdf for decoys\n",
      "generated fingerprint for actives\n",
      "generated fingerprint for decoys\n",
      "processing actives features\n",
      "processing decoys features\n",
      "(14526, 14526)\n"
     ]
    }
   ],
   "source": [
    "def main(fname):\n",
    "    activeSmiles(fname)\n",
    "    print('extracted smiles for actives')\n",
    "    decoySmiles(fname)\n",
    "    print('extracted smiles for decoys')\n",
    "    smiles2sdf(fname)\n",
    "    TPATF(fname)\n",
    "    x,y = getTPATF(fname)\n",
    "    return x,y\n",
    "x,y = main('Acetyl_coenzyme_A_transporter_1')"
   ]
  },
  {
   "cell_type": "code",
   "execution_count": 16,
   "metadata": {},
   "outputs": [],
   "source": [
    "#splitting the dataset into train and split\n",
    "\n",
    "x_train, x_test, y_train, y_test = train_test_split(x, y, test_size = 0.2)\n"
   ]
  },
  {
   "cell_type": "code",
   "execution_count": 20,
   "metadata": {},
   "outputs": [
    {
     "name": "stdout",
     "output_type": "stream",
     "text": [
      "('test:', 1.0)\n",
      "('train:', 1.0)\n",
      "('sensitivity: ', 1.0)\n",
      "('specificity: ', 1.0)\n",
      "('PPV: ', 1.0)\n"
     ]
    }
   ],
   "source": [
    "#support vector classification\n",
    "\n",
    "#t = (np.array(y_train).ravel())\n",
    "\n",
    "classifier = SVC(kernel ='linear')\n",
    "classifier.fit(x_train, y_train)\n",
    "y_predicted = classifier.predict(x_test)\n",
    "train_pred = classifier.predict(x_train)\n",
    "\n",
    "train_score= roc_auc_score(y_train, train_pred)\n",
    "test_score = roc_auc_score(y_test, y_predicted)\n",
    "\n",
    "print('test:', test_score)\n",
    "print('train:', train_score)\n",
    "\n",
    "y_predicted = map(int, y_predicted)\n",
    "tn, fp, fn, tp = confusion_matrix(y_test, y_predicted).ravel()\n",
    "sensitivity = float(tp)/(tp+fn)\n",
    "specificity = float(tn)/(tn+fp)\n",
    "PPV = float(tp)/(tp+fp)\n",
    "print('sensitivity: ', sensitivity)\n",
    "print('specificity: ', specificity)\n",
    "print('PPV: ', PPV)\n"
   ]
  },
  {
   "cell_type": "code",
   "execution_count": 21,
   "metadata": {},
   "outputs": [],
   "source": [
    "#saving the model\n",
    "pkl_filename = \"/Users/dshrestha/Desktop/Pharos/models/AcetylCoA_transporter1.pkl\"\n",
    "pickle.dump(classifier, open(pkl_filename, 'wb'))\n",
    "#with open(pkl_filename, 'wb') as file:\n",
    "#    pickle.dump(classifier, file)"
   ]
  },
  {
   "cell_type": "code",
   "execution_count": 18,
   "metadata": {},
   "outputs": [
    {
     "name": "stdout",
     "output_type": "stream",
     "text": [
      "0\n",
      "1\n",
      "2\n",
      "3\n",
      "4\n",
      "5\n",
      "6\n",
      "7\n",
      "8\n",
      "9\n",
      "10\n",
      "11\n",
      "12\n",
      "13\n",
      "14\n",
      "15\n",
      "16\n",
      "17\n",
      "18\n",
      "19\n",
      "1.0\n",
      "0.999895742435\n",
      "('sensitivity: ', 1.0)\n",
      "('specificity: ', 1.0)\n",
      "('PPV: ', 1.0)\n"
     ]
    }
   ],
   "source": [
    "train_roc =[]\n",
    "test_roc = []\n",
    "test_sensitivity=[]\n",
    "test_specificity=[]\n",
    "test_PPV=[]\n",
    "for n in range(20):\n",
    "    print(n)\n",
    "    x1_train, x1_test, y1_train, y1_test = train_test_split(x, y, test_size = 0.2)\n",
    "    classifier1 = SVC(kernel ='linear')\n",
    "    classifier1.fit(x1_train, y1_train)\n",
    "    y1_predicted = classifier1.predict(x1_test)\n",
    "    train1_pred = classifier1.predict(x1_train)\n",
    "    \n",
    "    tn, fp, fn, tp = confusion_matrix(y_test, y_predicted).ravel()\n",
    "    test_sensitivity.append(float(tp)/(tp+fn))\n",
    "    test_specificity.append(float(tn)/(tn+fp))\n",
    "    test_PPV.append(float(tp)/(tp+fp))\n",
    "    train_roc.append(roc_auc_score(y1_train, train1_pred))\n",
    "    test_roc.append(roc_auc_score(y1_test, y1_predicted))\n",
    "print(np.mean(train_roc))\n",
    "print(np.mean(test_roc))\n",
    "print('sensitivity: ', np.mean(test_sensitivity))\n",
    "print('specificity: ', np.mean(test_specificity))\n",
    "print('PPV: ', np.mean(test_PPV))"
   ]
  }
 ],
 "metadata": {
  "kernelspec": {
   "display_name": "Python 2",
   "language": "python",
   "name": "python2"
  },
  "language_info": {
   "codemirror_mode": {
    "name": "ipython",
    "version": 2
   },
   "file_extension": ".py",
   "mimetype": "text/x-python",
   "name": "python",
   "nbconvert_exporter": "python",
   "pygments_lexer": "ipython2",
   "version": "2.7.14"
  }
 },
 "nbformat": 4,
 "nbformat_minor": 2
}
