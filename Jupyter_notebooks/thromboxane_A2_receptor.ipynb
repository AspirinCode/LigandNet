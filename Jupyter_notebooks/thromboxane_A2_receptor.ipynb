{
 "cells": [
  {
   "cell_type": "code",
   "execution_count": 1,
   "metadata": {},
   "outputs": [],
   "source": [
    "import os\n",
    "import pandas as pd\n",
    "import numpy as np\n",
    "from sklearn.metrics import roc_auc_score\n",
    "import pickle\n",
    "from sklearn.metrics import confusion_matrix\n",
    "from sklearn.model_selection import train_test_split\n",
    "from sklearn.ensemble import RandomForestClassifier\n",
    "from sklearn.svm import SVC"
   ]
  },
  {
   "cell_type": "code",
   "execution_count": 3,
   "metadata": {},
   "outputs": [],
   "source": [
    "#smile file generation for actives\n",
    "actives = open('/Users/dshrestha/Desktop/jupyternotebook/Thromboxane_A2_receptor.txt','r').readlines()\n",
    "active_smiles = open('/Users/dshrestha/Desktop/Pharos/active_smiles.smi','w')\n",
    "\n",
    "for lines in actives:\n",
    "    line = lines.split('\\t')[0]\n",
    "    active_smiles.write(line+'\\n')\n",
    "\n",
    "active_smiles.close()\n"
   ]
  },
  {
   "cell_type": "code",
   "execution_count": 4,
   "metadata": {},
   "outputs": [],
   "source": [
    "#smile file generation for decoys\n",
    "decoy_path ='/Users/dshrestha/Desktop/Pharos/Decoys_set_1/Thromboxane_A2_receptor/decoys/'\n",
    "files = os.listdir(decoy_path)\n",
    "decoy_smiles = open('/Users/dshrestha/Desktop/Pharos/decoy_smiles.smi','w')\n",
    "for file in files:\n",
    "    if file != '.DS_Store':\n",
    "        decoys = open(decoy_path+file,'r').readlines() \n",
    "        for lines in decoys:\n",
    "            if not lines.startswith('ligand'):\n",
    "                line = lines.split('\\t')[0]\n",
    "                decoy_smiles.write(line+'\\n')\n",
    "            else:\n",
    "                decoy_smiles.write(lines.split('\\t')[1]+'\\n')\n",
    "decoy_smiles.close()"
   ]
  },
  {
   "cell_type": "code",
   "execution_count": 7,
   "metadata": {},
   "outputs": [],
   "source": [
    "#converting smiles to sdf\n",
    "def smiles2cdf(input_file, output_file):\n",
    "    os.system('python /Users/dshrestha/Downloads/mayachemtools/bin/RDKitConvertFileFormat.py -i /Users/dshrestha/Desktop/Pharos/'+input_file+' --ov -o /Users/dshrestha/Desktop/Pharos/'+output_file)\n",
    "\n",
    "smiles2cdf('active_smiles.smi', 'actives.sdf')\n",
    "smiles2cdf('decoy_smiles.smi', 'decoys.sdf')"
   ]
  },
  {
   "cell_type": "code",
   "execution_count": 8,
   "metadata": {},
   "outputs": [
    {
     "data": {
      "text/plain": [
       "0"
      ]
     },
     "execution_count": 8,
     "metadata": {},
     "output_type": "execute_result"
    }
   ],
   "source": [
    "#generating features for actives\n",
    "command='perl  /Users/dshrestha/Downloads/mayachemtools/bin/TopologicalPharmacophoreAtomTripletsFingerprints.pl -r /Users/dshrestha/Desktop/Pharos/ActivesTRTPATF --AtomTripletsSetSizeToUse FixedSize -v ValuesString -o /Users/dshrestha/Desktop/Pharos/actives.sdf'\n",
    "os.system(command)\n"
   ]
  },
  {
   "cell_type": "code",
   "execution_count": 2,
   "metadata": {},
   "outputs": [],
   "source": [
    "\n",
    "active = open('/Users/dshrestha/Desktop/Pharos/ActivesTRTPATF.csv','r').readlines()\n",
    "frame1=[]\n",
    "for lines in active:\n",
    "    #print(lines)\n",
    "    if 'Cmpd' in lines:\n",
    "        #i = re.findall(r'\\d+', lines)\n",
    "        #val=(data.iloc[(int(i[0])-1), 3])\n",
    "        line = lines.split(';')[5].rstrip('\"\\n').split(' ')\n",
    "        #print(len(line))\n",
    "        df = pd.DataFrame(np.array(line).reshape(1,len(line)))\n",
    "        df.astype(int)\n",
    "        frame1.append(df)\n",
    "active_val = [1]*len(frame1)\n"
   ]
  },
  {
   "cell_type": "code",
   "execution_count": null,
   "metadata": {},
   "outputs": [],
   "source": []
  },
  {
   "cell_type": "code",
   "execution_count": 10,
   "metadata": {},
   "outputs": [
    {
     "data": {
      "text/plain": [
       "0"
      ]
     },
     "execution_count": 10,
     "metadata": {},
     "output_type": "execute_result"
    }
   ],
   "source": [
    "#fingerprint generation for decoys\n",
    "command2='perl  /Users/dshrestha/Downloads/mayachemtools/bin/TopologicalPharmacophoreAtomTripletsFingerprints.pl -r /Users/dshrestha/Desktop/Pharos/DecoysTRTPATF --AtomTripletsSetSizeToUse FixedSize -v ValuesString -o /Users/dshrestha/Desktop/Pharos/decoys.sdf'\n",
    "os.system(command2)"
   ]
  },
  {
   "cell_type": "code",
   "execution_count": 3,
   "metadata": {},
   "outputs": [],
   "source": [
    "#fingerprint generation for decoys\n",
    "decoy = open('/Users/dshrestha/Desktop/Pharos/DecoysTRTPATF.csv','r').readlines()\n",
    "frame2 =[]\n",
    "for lines in decoy:\n",
    "    #print(lines)\n",
    "    if 'Cmpd' in lines:\n",
    "        #i = re.findall(r'\\d+', lines)\n",
    "        #val=(data.iloc[(int(i[0])-1), 3])\n",
    "        line = lines.split(';')[5].rstrip('\"\\n').split(' ')\n",
    "        #print(len(line))\n",
    "        df = pd.DataFrame(np.array(line).reshape(1,len(line)))\n",
    "        df.astype(int)\n",
    "        frame2.append(df)\n",
    "decoy_val = [0]*len(frame2)\n",
    "#frames = frame1 + frame2\n",
    "#x = pd.concat(frame1, frame2)\n",
    "#values = active_val+decoy_val\n",
    "#y = pd.DataFrame(values)\n"
   ]
  },
  {
   "cell_type": "code",
   "execution_count": 4,
   "metadata": {},
   "outputs": [
    {
     "name": "stdout",
     "output_type": "stream",
     "text": [
      "16768\n",
      "(16768, 16768)\n"
     ]
    }
   ],
   "source": [
    "#combining actives and decoys for data splitting\n",
    "frames = frame1+frame2\n",
    "len(frames)\n",
    "x = pd.concat(frames)\n",
    "values = active_val+decoy_val\n",
    "print(len(values))\n",
    "y = pd.DataFrame(values)\n",
    "print(len(x), len(y))"
   ]
  },
  {
   "cell_type": "code",
   "execution_count": null,
   "metadata": {},
   "outputs": [],
   "source": []
  },
  {
   "cell_type": "code",
   "execution_count": 5,
   "metadata": {},
   "outputs": [],
   "source": [
    "#splitting the dataset into train and split\n",
    "\n",
    "x_train, x_test, y_train, y_test = train_test_split(x, y, test_size = 0.2)\n"
   ]
  },
  {
   "cell_type": "code",
   "execution_count": 6,
   "metadata": {},
   "outputs": [
    {
     "name": "stderr",
     "output_type": "stream",
     "text": [
      "/anaconda3/envs/deepchem/lib/python2.7/site-packages/sklearn/utils/validation.py:526: DataConversionWarning: A column-vector y was passed when a 1d array was expected. Please change the shape of y to (n_samples, ), for example using ravel().\n",
      "  y = column_or_1d(y, warn=True)\n"
     ]
    },
    {
     "name": "stdout",
     "output_type": "stream",
     "text": [
      "('test:', 0.95421245421245415)\n",
      "('train:', 0.99304967020503543)\n",
      "('test2:', 0.95421245421245415)\n",
      "('train2:', 0.99304967020503543)\n"
     ]
    }
   ],
   "source": [
    "#support vector classification\n",
    "\n",
    "#t = (np.array(y_train).ravel())\n",
    "\n",
    "classifier = SVC(kernel ='linear')\n",
    "classifier.fit(x_train, y_train)\n",
    "y_predicted = classifier.predict(x_test)\n",
    "train_pred = classifier.predict(x_train)\n",
    "\n",
    "train_score= roc_auc_score(y_train, train_pred)\n",
    "test_score = roc_auc_score(y_test, y_predicted)\n",
    "\n",
    "train_score2= roc_auc_score(y_train, pd.DataFrame(train_pred))\n",
    "test_score2 = roc_auc_score(y_test, (y_predicted))\n",
    "\n",
    "print('test:', test_score)\n",
    "print('train:', train_score)\n",
    "\n",
    "print('test2:', test_score)\n",
    "print('train2:', train_score)\n",
    "\n",
    "#print(t)\n",
    "\n"
   ]
  },
  {
   "cell_type": "code",
   "execution_count": 13,
   "metadata": {},
   "outputs": [
    {
     "data": {
      "text/plain": [
       "0.9967943812976845"
      ]
     },
     "execution_count": 13,
     "metadata": {},
     "output_type": "execute_result"
    }
   ],
   "source": [
    "from sklearn.model_selection import cross_val_score\n",
    "accuracies = cross_val_score(estimator = classifier, X = x_train, y = y_train.values.ravel(), cv =10)\n",
    "np.mean(accuracies)\n"
   ]
  },
  {
   "cell_type": "code",
   "execution_count": 12,
   "metadata": {},
   "outputs": [
    {
     "name": "stdout",
     "output_type": "stream",
     "text": [
      "0\n",
      "1\n",
      "2\n",
      "3\n",
      "4\n",
      "5\n",
      "6\n",
      "7\n",
      "8\n",
      "9\n",
      "10\n",
      "11\n",
      "12\n",
      "13\n",
      "14\n",
      "15\n",
      "16\n",
      "17\n",
      "18\n",
      "19\n",
      "0.995015630405\n",
      "0.957617698621\n",
      "('sensitivity: ', 0.91025641025641002)\n",
      "('specificity: ', 0.99816849816849784)\n",
      "('PPV: ', 0.92207792207792194)\n"
     ]
    }
   ],
   "source": [
    "train_roc =[]\n",
    "test_roc = []\n",
    "test_sensitivity=[]\n",
    "test_specificity=[]\n",
    "test_PPV=[]\n",
    "for n in range(20):\n",
    "    print(n)\n",
    "    x1_train, x1_test, y1_train, y1_test = train_test_split(x, y, test_size = 0.2)\n",
    "    classifier1 = SVC(kernel ='linear')\n",
    "    classifier1.fit(x1_train, y1_train)\n",
    "    y1_predicted = classifier1.predict(x1_test)\n",
    "    train1_pred = classifier1.predict(x1_train)\n",
    "    \n",
    "    tn, fp, fn, tp = confusion_matrix(y_test, y_predicted).ravel()\n",
    "    test_sensitivity.append(float(tp)/(tp+fn))\n",
    "    test_specificity.append(float(tn)/(tn+fp))\n",
    "    test_PPV.append(float(tp)/(tp+fp))\n",
    "    train_roc.append(roc_auc_score(y1_train, train1_pred))\n",
    "    test_roc.append(roc_auc_score(y1_test, y1_predicted))\n",
    "print(np.mean(train_roc))\n",
    "print(np.mean(test_roc))\n",
    "print('sensitivity: ', np.mean(test_sensitivity))\n",
    "print('specificity: ', np.mean(test_specificity))\n",
    "print('PPV: ', np.mean(test_PPV))"
   ]
  },
  {
   "cell_type": "code",
   "execution_count": 40,
   "metadata": {},
   "outputs": [],
   "source": [
    "#saving the model\n",
    "pkl_filename = \"/Users/dshrestha/Desktop/Pharos/models/thromboxane.pkl\"\n",
    "pickle.dump(classifier, open(pkl_filename, 'wb'))\n",
    "#with open(pkl_filename, 'wb') as file:\n",
    "#    pickle.dump(classifier, file)"
   ]
  },
  {
   "cell_type": "code",
   "execution_count": 14,
   "metadata": {},
   "outputs": [
    {
     "name": "stdout",
     "output_type": "stream",
     "text": [
      "[[3270    6]\n",
      " [   7   71]]\n",
      "[[13196     1]\n",
      " [    3   214]]\n"
     ]
    }
   ],
   "source": [
    "#confusion matrix for support vector machine\n",
    "\n",
    "y_predicted = map(int, y_predicted)\n",
    "tn, fp, fn, tp = confusion_matrix(y_test, y_predicted).ravel()\n",
    "\n",
    "print(confusion_matrix(y_test, y_predicted))\n",
    "fn\n",
    "print(confusion_matrix(y_train, train_pred))"
   ]
  },
  {
   "cell_type": "code",
   "execution_count": 15,
   "metadata": {},
   "outputs": [
    {
     "name": "stdout",
     "output_type": "stream",
     "text": [
      "('sensitivity: ', 0.9102564102564102)\n",
      "('specificity: ', 0.9981684981684982)\n",
      "('PPV: ', 0.922077922077922)\n"
     ]
    }
   ],
   "source": [
    "sensitivity = float(tp)/(tp+fn)\n",
    "specificity = float(tn)/(tn+fp)\n",
    "PPV = float(tp)/(tp+fp)\n",
    "print('sensitivity: ', sensitivity)\n",
    "print('specificity: ', specificity)\n",
    "print('PPV: ', PPV)"
   ]
  }
 ],
 "metadata": {
  "kernelspec": {
   "display_name": "Python 3",
   "language": "python",
   "name": "python3"
  },
  "language_info": {
   "codemirror_mode": {
    "name": "ipython",
    "version": 3
   },
   "file_extension": ".py",
   "mimetype": "text/x-python",
   "name": "python",
   "nbconvert_exporter": "python",
   "pygments_lexer": "ipython3",
   "version": "3.6.4"
  }
 },
 "nbformat": 4,
 "nbformat_minor": 2
}
